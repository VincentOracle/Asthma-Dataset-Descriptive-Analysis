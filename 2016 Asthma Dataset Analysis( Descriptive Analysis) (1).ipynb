{
 "cells": [
  {
   "cell_type": "markdown",
   "metadata": {
    "colab": {
     "base_uri": "https://localhost:8080/",
     "height": 1000
    },
    "executionInfo": {
     "elapsed": 7217,
     "status": "ok",
     "timestamp": 1699416657300,
     "user": {
      "displayName": "Maseria Eugene",
      "userId": "05315318275964798954"
     },
     "user_tz": -180
    },
    "id": "56QJJ3rWEhw4",
    "outputId": "c4e2d7f8-4988-43fa-bdf1-b40f1849c4af"
   },
   "source": [
    "# 2016 Asthma Dataset Analysis( Descriptive Analysis)"
   ]
  },
  {
   "cell_type": "markdown",
   "metadata": {},
   "source": [
    "# Section 1: Loading and Preprocessing Data"
   ]
  },
  {
   "cell_type": "code",
   "execution_count": 11,
   "metadata": {},
   "outputs": [
    {
     "name": "stdout",
     "output_type": "stream",
     "text": [
      "Libraries loaded successfully!\n"
     ]
    }
   ],
   "source": [
    "import pandas as pd\n",
    "import numpy as np\n",
    "import matplotlib.pyplot as plt\n",
    "plt.style.use('fivethirtyeight')\n",
    "import seaborn as sns\n",
    "from scipy.stats import norm, skew, kurtosis, pearsonr, chi2_contingency\n",
    "\n",
    "print(\"Libraries loaded successfully!\")"
   ]
  },
  {
   "cell_type": "code",
   "execution_count": 13,
   "metadata": {},
   "outputs": [
    {
     "name": "stdout",
     "output_type": "stream",
     "text": [
      "Dataset loaded successfully!\n"
     ]
    }
   ],
   "source": [
    "#Load the dataset\n",
    "asthma_data=pd.read_csv(\"C:\\\\Users\\\\n\\\\Downloads\\\\asthma_data_2016_preprocessed.csv\")\n",
    "print(\"Dataset loaded successfully!\")"
   ]
  },
  {
   "cell_type": "code",
   "execution_count": 14,
   "metadata": {},
   "outputs": [
    {
     "data": {
      "text/html": [
       "<div>\n",
       "<style scoped>\n",
       "    .dataframe tbody tr th:only-of-type {\n",
       "        vertical-align: middle;\n",
       "    }\n",
       "\n",
       "    .dataframe tbody tr th {\n",
       "        vertical-align: top;\n",
       "    }\n",
       "\n",
       "    .dataframe thead th {\n",
       "        text-align: right;\n",
       "    }\n",
       "</style>\n",
       "<table border=\"1\" class=\"dataframe\">\n",
       "  <thead>\n",
       "    <tr style=\"text-align: right;\">\n",
       "      <th></th>\n",
       "      <th>DUPERSID</th>\n",
       "      <th>ADHECR42</th>\n",
       "      <th>AGE16X</th>\n",
       "      <th>BMINDX</th>\n",
       "      <th>FAMINC16</th>\n",
       "      <th>TTLP16X</th>\n",
       "      <th>UNEMP16X</th>\n",
       "      <th>SEX</th>\n",
       "      <th>ASPRIN53</th>\n",
       "      <th>ADAPPT42</th>\n",
       "      <th>RACETHX</th>\n",
       "      <th>TOTEXP16</th>\n",
       "    </tr>\n",
       "  </thead>\n",
       "  <tbody>\n",
       "    <tr>\n",
       "      <th>0</th>\n",
       "      <td>10006101</td>\n",
       "      <td>0.900000</td>\n",
       "      <td>0.511628</td>\n",
       "      <td>0.293522</td>\n",
       "      <td>0.088404</td>\n",
       "      <td>0.164108</td>\n",
       "      <td>0.0</td>\n",
       "      <td>2</td>\n",
       "      <td>2</td>\n",
       "      <td>2</td>\n",
       "      <td>2</td>\n",
       "      <td>23</td>\n",
       "    </tr>\n",
       "    <tr>\n",
       "      <th>1</th>\n",
       "      <td>10008102</td>\n",
       "      <td>0.305235</td>\n",
       "      <td>0.232558</td>\n",
       "      <td>0.300607</td>\n",
       "      <td>0.172962</td>\n",
       "      <td>0.205962</td>\n",
       "      <td>0.0</td>\n",
       "      <td>1</td>\n",
       "      <td>2</td>\n",
       "      <td>0</td>\n",
       "      <td>2</td>\n",
       "      <td>3418</td>\n",
       "    </tr>\n",
       "    <tr>\n",
       "      <th>2</th>\n",
       "      <td>10008106</td>\n",
       "      <td>0.305235</td>\n",
       "      <td>0.116279</td>\n",
       "      <td>0.000000</td>\n",
       "      <td>0.172962</td>\n",
       "      <td>0.164108</td>\n",
       "      <td>0.0</td>\n",
       "      <td>2</td>\n",
       "      <td>-1</td>\n",
       "      <td>-1</td>\n",
       "      <td>2</td>\n",
       "      <td>1517</td>\n",
       "    </tr>\n",
       "    <tr>\n",
       "      <th>3</th>\n",
       "      <td>10019102</td>\n",
       "      <td>0.800000</td>\n",
       "      <td>0.860465</td>\n",
       "      <td>0.399798</td>\n",
       "      <td>0.191292</td>\n",
       "      <td>0.222397</td>\n",
       "      <td>0.0</td>\n",
       "      <td>2</td>\n",
       "      <td>1</td>\n",
       "      <td>4</td>\n",
       "      <td>2</td>\n",
       "      <td>15794</td>\n",
       "    </tr>\n",
       "    <tr>\n",
       "      <th>4</th>\n",
       "      <td>10034101</td>\n",
       "      <td>0.305235</td>\n",
       "      <td>0.883721</td>\n",
       "      <td>0.444332</td>\n",
       "      <td>0.112934</td>\n",
       "      <td>0.212918</td>\n",
       "      <td>0.0</td>\n",
       "      <td>1</td>\n",
       "      <td>2</td>\n",
       "      <td>-1</td>\n",
       "      <td>3</td>\n",
       "      <td>10340</td>\n",
       "    </tr>\n",
       "  </tbody>\n",
       "</table>\n",
       "</div>"
      ],
      "text/plain": [
       "   DUPERSID  ADHECR42    AGE16X    BMINDX  FAMINC16   TTLP16X  UNEMP16X  SEX  \\\n",
       "0  10006101  0.900000  0.511628  0.293522  0.088404  0.164108       0.0    2   \n",
       "1  10008102  0.305235  0.232558  0.300607  0.172962  0.205962       0.0    1   \n",
       "2  10008106  0.305235  0.116279  0.000000  0.172962  0.164108       0.0    2   \n",
       "3  10019102  0.800000  0.860465  0.399798  0.191292  0.222397       0.0    2   \n",
       "4  10034101  0.305235  0.883721  0.444332  0.112934  0.212918       0.0    1   \n",
       "\n",
       "   ASPRIN53  ADAPPT42  RACETHX  TOTEXP16  \n",
       "0         2         2        2        23  \n",
       "1         2         0        2      3418  \n",
       "2        -1        -1        2      1517  \n",
       "3         1         4        2     15794  \n",
       "4         2        -1        3     10340  "
      ]
     },
     "execution_count": 14,
     "metadata": {},
     "output_type": "execute_result"
    }
   ],
   "source": [
    "asthma_data.head()"
   ]
  },
  {
   "cell_type": "code",
   "execution_count": 15,
   "metadata": {},
   "outputs": [
    {
     "data": {
      "text/html": [
       "<div>\n",
       "<style scoped>\n",
       "    .dataframe tbody tr th:only-of-type {\n",
       "        vertical-align: middle;\n",
       "    }\n",
       "\n",
       "    .dataframe tbody tr th {\n",
       "        vertical-align: top;\n",
       "    }\n",
       "\n",
       "    .dataframe thead th {\n",
       "        text-align: right;\n",
       "    }\n",
       "</style>\n",
       "<table border=\"1\" class=\"dataframe\">\n",
       "  <thead>\n",
       "    <tr style=\"text-align: right;\">\n",
       "      <th></th>\n",
       "      <th>DUPERSID</th>\n",
       "      <th>ADHECR42</th>\n",
       "      <th>AGE16X</th>\n",
       "      <th>BMINDX</th>\n",
       "      <th>FAMINC16</th>\n",
       "      <th>TTLP16X</th>\n",
       "      <th>UNEMP16X</th>\n",
       "      <th>SEX</th>\n",
       "      <th>ASPRIN53</th>\n",
       "      <th>ADAPPT42</th>\n",
       "      <th>RACETHX</th>\n",
       "      <th>TOTEXP16</th>\n",
       "    </tr>\n",
       "  </thead>\n",
       "  <tbody>\n",
       "    <tr>\n",
       "      <th>2205</th>\n",
       "      <td>80546101</td>\n",
       "      <td>0.800000</td>\n",
       "      <td>0.418605</td>\n",
       "      <td>0.463563</td>\n",
       "      <td>0.158320</td>\n",
       "      <td>0.303231</td>\n",
       "      <td>0.0</td>\n",
       "      <td>2</td>\n",
       "      <td>2</td>\n",
       "      <td>3</td>\n",
       "      <td>2</td>\n",
       "      <td>2659</td>\n",
       "    </tr>\n",
       "    <tr>\n",
       "      <th>2206</th>\n",
       "      <td>80550101</td>\n",
       "      <td>0.900000</td>\n",
       "      <td>0.790698</td>\n",
       "      <td>0.378543</td>\n",
       "      <td>0.233626</td>\n",
       "      <td>0.165023</td>\n",
       "      <td>0.0</td>\n",
       "      <td>2</td>\n",
       "      <td>2</td>\n",
       "      <td>6</td>\n",
       "      <td>2</td>\n",
       "      <td>18224</td>\n",
       "    </tr>\n",
       "    <tr>\n",
       "      <th>2207</th>\n",
       "      <td>80564101</td>\n",
       "      <td>1.000000</td>\n",
       "      <td>0.604651</td>\n",
       "      <td>0.355263</td>\n",
       "      <td>0.266508</td>\n",
       "      <td>0.266620</td>\n",
       "      <td>0.0</td>\n",
       "      <td>2</td>\n",
       "      <td>2</td>\n",
       "      <td>1</td>\n",
       "      <td>1</td>\n",
       "      <td>960</td>\n",
       "    </tr>\n",
       "    <tr>\n",
       "      <th>2208</th>\n",
       "      <td>80568101</td>\n",
       "      <td>0.900000</td>\n",
       "      <td>0.546512</td>\n",
       "      <td>0.351215</td>\n",
       "      <td>0.140156</td>\n",
       "      <td>0.208510</td>\n",
       "      <td>0.0</td>\n",
       "      <td>2</td>\n",
       "      <td>2</td>\n",
       "      <td>4</td>\n",
       "      <td>1</td>\n",
       "      <td>8422</td>\n",
       "    </tr>\n",
       "    <tr>\n",
       "      <th>2209</th>\n",
       "      <td>80568103</td>\n",
       "      <td>0.305235</td>\n",
       "      <td>0.151163</td>\n",
       "      <td>0.322874</td>\n",
       "      <td>0.140156</td>\n",
       "      <td>0.164108</td>\n",
       "      <td>0.0</td>\n",
       "      <td>1</td>\n",
       "      <td>-1</td>\n",
       "      <td>-1</td>\n",
       "      <td>1</td>\n",
       "      <td>6859</td>\n",
       "    </tr>\n",
       "  </tbody>\n",
       "</table>\n",
       "</div>"
      ],
      "text/plain": [
       "      DUPERSID  ADHECR42    AGE16X    BMINDX  FAMINC16   TTLP16X  UNEMP16X  \\\n",
       "2205  80546101  0.800000  0.418605  0.463563  0.158320  0.303231       0.0   \n",
       "2206  80550101  0.900000  0.790698  0.378543  0.233626  0.165023       0.0   \n",
       "2207  80564101  1.000000  0.604651  0.355263  0.266508  0.266620       0.0   \n",
       "2208  80568101  0.900000  0.546512  0.351215  0.140156  0.208510       0.0   \n",
       "2209  80568103  0.305235  0.151163  0.322874  0.140156  0.164108       0.0   \n",
       "\n",
       "      SEX  ASPRIN53  ADAPPT42  RACETHX  TOTEXP16  \n",
       "2205    2         2         3        2      2659  \n",
       "2206    2         2         6        2     18224  \n",
       "2207    2         2         1        1       960  \n",
       "2208    2         2         4        1      8422  \n",
       "2209    1        -1        -1        1      6859  "
      ]
     },
     "execution_count": 15,
     "metadata": {},
     "output_type": "execute_result"
    }
   ],
   "source": [
    "asthma_data.tail()"
   ]
  },
  {
   "cell_type": "code",
   "execution_count": 17,
   "metadata": {},
   "outputs": [
    {
     "name": "stdout",
     "output_type": "stream",
     "text": [
      "<class 'pandas.core.frame.DataFrame'>\n",
      "Int64Index: 2210 entries, 0 to 2209\n",
      "Data columns (total 13 columns):\n",
      " #   Column                Non-Null Count  Dtype  \n",
      "---  ------                --------------  -----  \n",
      " 0   DUPERSID              2210 non-null   int64  \n",
      " 1   ADHECR42              2210 non-null   float64\n",
      " 2   AGE16X                2210 non-null   float64\n",
      " 3   BMINDX                2210 non-null   float64\n",
      " 4   FAMINC16              2210 non-null   float64\n",
      " 5   TTLP16X               2210 non-null   float64\n",
      " 6   UNEMP16X              2210 non-null   float64\n",
      " 7   SEX                   2210 non-null   int64  \n",
      " 8   ASPRIN53              2210 non-null   int64  \n",
      " 9   ADAPPT42              2210 non-null   int64  \n",
      " 10  RACETHX               2210 non-null   int64  \n",
      " 11  TOTEXP16              2210 non-null   float64\n",
      " 12  TOTEXP16_Categorical  2210 non-null   int32  \n",
      "dtypes: float64(7), int32(1), int64(5)\n",
      "memory usage: 233.1 KB\n"
     ]
    }
   ],
   "source": [
    "# Display basic information about the dataset\n",
    "asthma_data.info()"
   ]
  },
  {
   "cell_type": "code",
   "execution_count": 19,
   "metadata": {},
   "outputs": [
    {
     "name": "stdout",
     "output_type": "stream",
     "text": [
      "   DUPERSID  ADHECR42    AGE16X    BMINDX  FAMINC16   TTLP16X  UNEMP16X  SEX  \\\n",
      "0  10006101  0.900000  0.511628  0.293522  0.088404  0.164108       0.0    2   \n",
      "1  10008102  0.305235  0.232558  0.300607  0.172962  0.205962       0.0    1   \n",
      "2  10008106  0.305235  0.116279  0.000000  0.172962  0.164108       0.0    2   \n",
      "3  10019102  0.800000  0.860465  0.399798  0.191292  0.222397       0.0    2   \n",
      "4  10034101  0.305235  0.883721  0.444332  0.112934  0.212918       0.0    1   \n",
      "\n",
      "   ASPRIN53  ADAPPT42  RACETHX  TOTEXP16  TOTEXP16_Categorical  \n",
      "0         2         2        2  0.000055                     0  \n",
      "1         2         0        2  0.008179                     1  \n",
      "2        -1        -1        2  0.003630                     0  \n",
      "3         1         4        2  0.037792                     1  \n",
      "4         2        -1        3  0.024741                     1  \n"
     ]
    }
   ],
   "source": [
    "# Handle negative values in TOTEXP16\n",
    "asthma_data = asthma_data[asthma_data['TOTEXP16'] >= 0]\n",
    "print(asthma_data.head())"
   ]
  },
  {
   "cell_type": "code",
   "execution_count": 20,
   "metadata": {},
   "outputs": [
    {
     "name": "stdout",
     "output_type": "stream",
     "text": [
      "Missing Values:\n",
      " DUPERSID                0\n",
      "ADHECR42                0\n",
      "AGE16X                  0\n",
      "BMINDX                  0\n",
      "FAMINC16                0\n",
      "TTLP16X                 0\n",
      "UNEMP16X                0\n",
      "SEX                     0\n",
      "ASPRIN53                0\n",
      "ADAPPT42                0\n",
      "RACETHX                 0\n",
      "TOTEXP16                0\n",
      "TOTEXP16_Categorical    0\n",
      "dtype: int64\n"
     ]
    }
   ],
   "source": [
    "# Check for missing values\n",
    "missing_values = asthma_data.isnull().sum()\n",
    "print(\"Missing Values:\\n\", missing_values)"
   ]
  },
  {
   "cell_type": "code",
   "execution_count": 25,
   "metadata": {},
   "outputs": [
    {
     "name": "stdout",
     "output_type": "stream",
     "text": [
      "\n",
      "Data Types:\n",
      " DUPERSID                  int64\n",
      "ADHECR42                float64\n",
      "AGE16X                  float64\n",
      "BMINDX                  float64\n",
      "FAMINC16                float64\n",
      "TTLP16X                 float64\n",
      "UNEMP16X                float64\n",
      "SEX                       int64\n",
      "ASPRIN53                  int64\n",
      "ADAPPT42                  int64\n",
      "RACETHX                   int64\n",
      "TOTEXP16                float64\n",
      "TOTEXP16_Categorical      int32\n",
      "dtype: object\n"
     ]
    }
   ],
   "source": [
    "# Check data types\n",
    "data_types = asthma_data.dtypes\n",
    "print(\"\\nData Types:\\n\", data_types)"
   ]
  },
  {
   "cell_type": "code",
   "execution_count": 26,
   "metadata": {},
   "outputs": [
    {
     "name": "stdout",
     "output_type": "stream",
     "text": [
      "The TOTEXP16 medium value is 0.006973789367393916\n"
     ]
    }
   ],
   "source": [
    "# Normalize numerical variables (max-min method)\n",
    "numerical_cols = ['ADHECR42', 'AGE16X', 'BMINDX', 'FAMINC16', 'TTLP16X', 'UNEMP16X', 'TOTEXP16']\n",
    "asthma_data[numerical_cols] = (asthma_data[numerical_cols] - asthma_data[numerical_cols].min()) / (asthma_data[numerical_cols].max() - asthma_data[numerical_cols].min())\n",
    "\n",
    "# Convert TOTEXP16 to a categorical variable using median split\n",
    "median_value = asthma_data['TOTEXP16'].median()\n",
    "asthma_data['TOTEXP16_Categorical'] = np.where(asthma_data['TOTEXP16'] > median_value, 1, 0)\n",
    "\n",
    "# Drop negative values and select instances where ASPRIN53 is positive\n",
    "aspirin_data = asthma_data[asthma_data['ASPRIN53'] > 0].copy()\n",
    "print(\"The TOTEXP16 medium value is: \",median_value )"
   ]
  },
  {
   "cell_type": "code",
   "execution_count": 27,
   "metadata": {},
   "outputs": [
    {
     "name": "stdout",
     "output_type": "stream",
     "text": [
      "Missing Values:\n",
      " DUPERSID                0\n",
      "ADHECR42                0\n",
      "AGE16X                  0\n",
      "BMINDX                  0\n",
      "FAMINC16                0\n",
      "TTLP16X                 0\n",
      "UNEMP16X                0\n",
      "SEX                     0\n",
      "ASPRIN53                0\n",
      "ADAPPT42                0\n",
      "RACETHX                 0\n",
      "TOTEXP16                0\n",
      "TOTEXP16_Categorical    0\n",
      "dtype: int64\n"
     ]
    }
   ],
   "source": [
    "# Check for missing values\n",
    "missing_values = asthma_data.isnull().sum()\n",
    "print(\"Missing Values:\\n\", missing_values)"
   ]
  },
  {
   "cell_type": "code",
   "execution_count": 28,
   "metadata": {},
   "outputs": [
    {
     "name": "stdout",
     "output_type": "stream",
     "text": [
      "\n",
      "Data Types:\n",
      " DUPERSID                  int64\n",
      "ADHECR42                float64\n",
      "AGE16X                  float64\n",
      "BMINDX                  float64\n",
      "FAMINC16                float64\n",
      "TTLP16X                 float64\n",
      "UNEMP16X                float64\n",
      "SEX                       int64\n",
      "ASPRIN53                  int64\n",
      "ADAPPT42                  int64\n",
      "RACETHX                   int64\n",
      "TOTEXP16                float64\n",
      "TOTEXP16_Categorical      int32\n",
      "dtype: object\n"
     ]
    }
   ],
   "source": [
    "# Check data types\n",
    "data_types = asthma_data.dtypes\n",
    "print(\"\\nData Types:\\n\", data_types)"
   ]
  },
  {
   "cell_type": "code",
   "execution_count": 29,
   "metadata": {},
   "outputs": [],
   "source": [
    "# Normalize numerical variables (max-min method)\n",
    "numerical_cols = ['ADHECR42', 'AGE16X', 'BMINDX', 'FAMINC16', 'TTLP16X', 'UNEMP16X', 'TOTEXP16']\n",
    "asthma_data[numerical_cols] = (asthma_data[numerical_cols] - asthma_data[numerical_cols].min()) / (asthma_data[numerical_cols].max() - asthma_data[numerical_cols].min())"
   ]
  },
  {
   "cell_type": "code",
   "execution_count": 30,
   "metadata": {},
   "outputs": [],
   "source": [
    "# Convert TOTEXP16 to a categorical variable using median split\n",
    "median_value = asthma_data['TOTEXP16'].median()\n",
    "asthma_data['TOTEXP16_Categorical'] = np.where(asthma_data['TOTEXP16'] > median_value, 1, 0)\n",
    "\n",
    "# Drop negative values and select instances where ASPRIN53 is positive\n",
    "aspirin_data = asthma_data[asthma_data['ASPRIN53'] > 0].copy()\n"
   ]
  },
  {
   "cell_type": "markdown",
   "metadata": {},
   "source": [
    "# Section 2: Random Sampling"
   ]
  },
  {
   "cell_type": "markdown",
   "metadata": {},
   "source": [
    "Create 100 random samples for patients who are taking aspirin and patients who are not taking aspirin. Each group should have 100 samples independently. "
   ]
  },
  {
   "cell_type": "code",
   "execution_count": 51,
   "metadata": {},
   "outputs": [
    {
     "name": "stdout",
     "output_type": "stream",
     "text": [
      "random samples for patients taking aspirin is:       DUPERSID  ADHECR42    AGE16X    BMINDX  FAMINC16   TTLP16X  UNEMP16X  \\\n",
      "123   11283101  1.000000  0.767442  0.386640  0.198620  0.164108       0.0   \n",
      "1655  75566101  0.305235  0.406977  0.360324  0.161996  0.310546       0.0   \n",
      "1370  72864103  1.000000  0.244186  0.312753  0.270433  0.164108       0.0   \n",
      "1030  19628101  0.800000  0.604651  0.399798  0.098772  0.184738       0.0   \n",
      "842   17845101  1.000000  0.802326  0.402834  0.149921  0.203648       0.0   \n",
      "...        ...       ...       ...       ...       ...       ...       ...   \n",
      "1628  75351101  0.700000  0.674419  0.497976  0.160196  0.244726       0.0   \n",
      "2053  78876103  1.000000  0.523256  0.580972  0.256071  0.254904       0.0   \n",
      "1041  70061103  0.900000  0.325581  0.335020  0.130722  0.171430       0.0   \n",
      "840   17833102  0.800000  0.767442  0.369433  0.353844  0.261622       0.0   \n",
      "790   17388101  0.900000  0.453488  0.327935  0.296329  0.437175       0.0   \n",
      "\n",
      "      SEX  ASPRIN53  ADAPPT42  RACETHX  TOTEXP16  TOTEXP16_Categorical  \n",
      "123     1         1         2        2  0.035074                     1  \n",
      "1655    1         2        -1        2  0.007353                     1  \n",
      "1370    2         2         2        2  0.003225                     0  \n",
      "1030    2         2         5        3  0.016616                     1  \n",
      "842     2         1         3        3  0.011313                     1  \n",
      "...   ...       ...       ...      ...       ...                   ...  \n",
      "1628    2         2         2        1  0.058274                     1  \n",
      "2053    2         2         5        2  0.009976                     1  \n",
      "1041    1         2         6        1  0.005389                     0  \n",
      "840     2         1         1        2  0.005252                     0  \n",
      "790     2         2         5        2  0.017900                     1  \n",
      "\n",
      "[100 rows x 13 columns]\n",
      "\n",
      "random samples for patients not taking aspirin is:       DUPERSID  ADHECR42    AGE16X    BMINDX  FAMINC16   TTLP16X  UNEMP16X  \\\n",
      "401   13864102  1.000000  0.767442  0.335020  0.088404  0.164108       0.0   \n",
      "2107  79338102  1.000000  0.593023  0.386640  0.177169  0.333568       0.0   \n",
      "2058  78912101  0.700000  0.593023  0.455466  0.183425  0.197461       0.0   \n",
      "1733  76354101  0.900000  0.767442  0.718623  0.110483  0.208041       0.0   \n",
      "560   15154101  0.600000  0.488372  0.542510  0.141761  0.248314       0.0   \n",
      "...        ...       ...       ...       ...       ...       ...       ...   \n",
      "74    10838101  1.000000  0.860465  0.381579  0.111995  0.211051       0.0   \n",
      "1822  77097101  0.305235  0.627907  0.394737  0.230075  0.299570       0.0   \n",
      "1258  72013101  1.000000  0.709302  0.469636  0.161440  0.283080       0.0   \n",
      "563   15194101  1.000000  0.755814  0.529352  0.088404  0.164108       0.0   \n",
      "1527  74395101  0.900000  0.755814  0.473684  0.264245  0.328160       0.0   \n",
      "\n",
      "      SEX  ASPRIN53  ADAPPT42  RACETHX  TOTEXP16  TOTEXP16_Categorical  \n",
      "401     1         1         2        3  0.007162                     1  \n",
      "2107    2         1         5        4  0.011557                     1  \n",
      "2058    2         1        -9        3  0.034004                     1  \n",
      "1733    2         1         5        3  0.090455                     1  \n",
      "560     2         1         4        3  0.006205                     0  \n",
      "...   ...       ...       ...      ...       ...                   ...  \n",
      "74      2         1         6        1  0.018776                     1  \n",
      "1822    2         1        -1        3  0.000000                     0  \n",
      "1258    2         1         6        3  0.027713                     1  \n",
      "563     2         1         5        3  0.017381                     1  \n",
      "1527    2         1         4        2  0.219486                     1  \n",
      "\n",
      "[100 rows x 13 columns]\n"
     ]
    }
   ],
   "source": [
    "# Create random samples for patients taking and not taking aspirin\n",
    "aspirin_group = aspirin_data.sample(100, random_state=1)\n",
    "no_aspirin_group = asthma_data[asthma_data['ASPRIN53'] == 1].sample(100, random_state=1)\n",
    "print(\"random samples for patients taking aspirin is:\",aspirin_group)\n",
    "print(\"\\nrandom samples for patients not taking aspirin is:\",no_aspirin_group)"
   ]
  },
  {
   "cell_type": "markdown",
   "metadata": {},
   "source": [
    "# Section 3: Descriptive Statistics "
   ]
  },
  {
   "cell_type": "code",
   "execution_count": 52,
   "metadata": {},
   "outputs": [
    {
     "name": "stdout",
     "output_type": "stream",
     "text": [
      "The descriptive statistics for the total medical expenditure (TOTEXP16)taking aspirin is: count    100.000000\n",
      "mean       0.022521\n",
      "std        0.036998\n",
      "min        0.000000\n",
      "25%        0.003190\n",
      "50%        0.009503\n",
      "75%        0.022778\n",
      "max        0.203222\n",
      "Name: TOTEXP16, dtype: float64\n",
      "The descriptive statistics for the total medical expenditure (TOTEXP16) not taking aspirin is: count    100.000000\n",
      "mean       0.031513\n",
      "std        0.037962\n",
      "min        0.000000\n",
      "25%        0.007011\n",
      "50%        0.019729\n",
      "75%        0.033735\n",
      "max        0.219486\n",
      "Name: TOTEXP16, dtype: float64\n"
     ]
    }
   ],
   "source": [
    "# Descriptive statistics\n",
    "aspirin_stats = aspirin_group['TOTEXP16'].describe()\n",
    "no_aspirin_stats = no_aspirin_group['TOTEXP16'].describe()\n",
    "\n",
    "print(\"The descriptive statistics for the total medical expenditure (TOTEXP16)taking aspirin is:\",aspirin_stats)\n",
    "print(\"The descriptive statistics for the total medical expenditure (TOTEXP16) not taking aspirin is:\",no_aspirin_stats)\n"
   ]
  },
  {
   "cell_type": "markdown",
   "metadata": {},
   "source": [
    "# Section  4:Boxplot"
   ]
  },
  {
   "cell_type": "code",
   "execution_count": 65,
   "metadata": {},
   "outputs": [
    {
     "name": "stdout",
     "output_type": "stream",
     "text": [
      "The descriptive statistics for the total medical expenditure (TOTEXP16)taking aspirin is: count    100.000000\n",
      "mean       0.022521\n",
      "std        0.036998\n",
      "min        0.000000\n",
      "25%        0.003190\n",
      "50%        0.009503\n",
      "75%        0.022778\n",
      "max        0.203222\n",
      "Name: TOTEXP16, dtype: float64\n",
      "The descriptive statistics for the total medical expenditure (TOTEXP16) not taking aspirin is: count    100.000000\n",
      "mean       0.031513\n",
      "std        0.037962\n",
      "min        0.000000\n",
      "25%        0.007011\n",
      "50%        0.019729\n",
      "75%        0.033735\n",
      "max        0.219486\n",
      "Name: TOTEXP16, dtype: float64\n"
     ]
    },
    {
     "data": {
      "image/png": "[encoded data removed]",
      "text/plain": [
       "<Figure size 720x432 with 1 Axes>"
      ]
     },
     "metadata": {},
     "output_type": "display_data"
    },
    {
     "name": "stdout",
     "output_type": "stream",
     "text": [
      "skewness and kurtosis are as given below:\n",
      "\n",
      "skewness_aspirin 3.16488402657343\n",
      "kurtosis_aspirin 10.755348026512207\n",
      "skewness_no_aspirin 2.2001352270972476\n",
      "kurtosis_no_aspirin 5.714436233146854\n"
     ]
    }
   ],
   "source": [
    "# Descriptive statistics\n",
    "aspirin_stats = aspirin_group['TOTEXP16'].describe()\n",
    "no_aspirin_stats = no_aspirin_group['TOTEXP16'].describe()\n",
    "\n",
    "print(\"The descriptive statistics for the total medical expenditure (TOTEXP16)taking aspirin is:\",aspirin_stats)\n",
    "print(\"The descriptive statistics for the total medical expenditure (TOTEXP16) not taking aspirin is:\",no_aspirin_stats)\n",
    "\n",
    "# Boxplot\n",
    "plt.figure(figsize=(10, 6))\n",
    "sns.boxplot(x='ASPRIN53', y='TOTEXP16', data=pd.concat([aspirin_group, no_aspirin_group]))\n",
    "# y.label(\"Not taking Aspirin\")\n",
    "plt.xlabel(\"Taking Aspirin\")\n",
    "plt.ylabel(\"Not taking Aspirin\")\n",
    "plt.title('Boxplot of Total Medical Expenditure')\n",
    "plt.show()\n",
    "\n",
    "# Calculate skewness and kurtosis\n",
    "skewness_aspirin = skew(aspirin_group['TOTEXP16'])\n",
    "kurtosis_aspirin = kurtosis(aspirin_group['TOTEXP16'])\n",
    "skewness_no_aspirin = skew(no_aspirin_group['TOTEXP16'])\n",
    "kurtosis_no_aspirin = kurtosis(no_aspirin_group['TOTEXP16'])\n",
    "\n",
    "print(\"skewness and kurtosis are as given below:\\n\")\n",
    "print(\"skewness_aspirin\",skewness_aspirin)\n",
    "print(\"kurtosis_aspirin\",kurtosis_aspirin)\n",
    "print(\"skewness_no_aspirin\",skewness_no_aspirin)\n",
    "print(\"kurtosis_no_aspirin\",kurtosis_no_aspirin)"
   ]
  },
  {
   "cell_type": "markdown",
   "metadata": {},
   "source": [
    "# Section 5 and 6: Normal Distribution Check"
   ]
  },
  {
   "cell_type": "code",
   "execution_count": 66,
   "metadata": {},
   "outputs": [
    {
     "name": "stdout",
     "output_type": "stream",
     "text": [
      "The calculated skewness and kurtosis are as given below:\n",
      "\n",
      "skewness_aspirin 3.16488402657343\n",
      "kurtosis_aspirin 10.755348026512207\n",
      "skewness_no_aspirin 2.2001352270972476\n",
      "kurtosis_no_aspirin 5.714436233146854\n"
     ]
    },
    {
     "data": {
      "image/png": "[encoded data removed]",
      "text/plain": [
       "<Figure size 864x432 with 2 Axes>"
      ]
     },
     "metadata": {},
     "output_type": "display_data"
    }
   ],
   "source": [
    "# Histograms\n",
    "plt.figure(figsize=(12, 6))\n",
    "plt.subplot(1, 2, 1)\n",
    "sns.histplot(aspirin_group['TOTEXP16'], bins=20, kde=True)\n",
    "plt.title('Histogram - Aspirin Group')\n",
    "\n",
    "plt.subplot(1, 2, 2)\n",
    "sns.histplot(no_aspirin_group['TOTEXP16'], bins=20, kde=True)\n",
    "plt.title('Histogram - No Aspirin Group')\n",
    "\n",
    "# Calculate skewness and kurtosis\n",
    "skewness_aspirin = skew(aspirin_group['TOTEXP16'])\n",
    "kurtosis_aspirin = kurtosis(aspirin_group['TOTEXP16'])\n",
    "skewness_no_aspirin = skew(no_aspirin_group['TOTEXP16'])\n",
    "kurtosis_no_aspirin = kurtosis(no_aspirin_group['TOTEXP16'])\n",
    "\n",
    "print(\"The calculated skewness and kurtosis are as given below:\\n\")\n",
    "print(\"skewness_aspirin\",skewness_aspirin)\n",
    "print(\"kurtosis_aspirin\",kurtosis_aspirin)\n",
    "print(\"skewness_no_aspirin\",skewness_no_aspirin)\n",
    "print(\"kurtosis_no_aspirin\",kurtosis_no_aspirin)\n"
   ]
  },
  {
   "cell_type": "markdown",
   "metadata": {},
   "source": [
    "# Section 7, 8, and 9: Correlation Coefficients"
   ]
  },
  {
   "cell_type": "code",
   "execution_count": 45,
   "metadata": {},
   "outputs": [
    {
     "name": "stdout",
     "output_type": "stream",
     "text": [
      "Pearson correlation coefficient between 'AGE16X' and 'ADHECR42': 0.5547603292854282\n",
      "Pearson correlation coefficient between 'UNEMP16X' and 'ADHECR42': 0.027850536381503543\n"
     ]
    }
   ],
   "source": [
    "# Calculate correlation coefficients for numerical variables\n",
    "correlation_age_adherence, _ = pearsonr(asthma_data['AGE16X'], asthma_data['ADHECR42'])\n",
    "correlation_unemployment_adherence, _ = pearsonr(asthma_data['UNEMP16X'], asthma_data['ADHECR42'])\n",
    "\n",
    "# Display correlation coefficients\n",
    "print(\"Pearson correlation coefficient between 'AGE16X' and 'ADHECR42':\", correlation_age_adherence)\n",
    "print(\"Pearson correlation coefficient between 'UNEMP16X' and 'ADHECR42':\", correlation_unemployment_adherence)\n"
   ]
  },
  {
   "cell_type": "markdown",
   "metadata": {},
   "source": [
    "# Section 10: Calculate the Chi-square correlation coefficient between \"ASPRIN53\" and \"TOTEXP16_Categorical\"."
   ]
  },
  {
   "cell_type": "code",
   "execution_count": 46,
   "metadata": {},
   "outputs": [
    {
     "name": "stdout",
     "output_type": "stream",
     "text": [
      "Chi-square correlation coefficient between 'ASPRIN53' and 'TOTEXP16_Categorical': 55.12085163744185\n",
      "p-value: 1.1334209501149483e-13\n",
      "Degrees of Freedom: 1\n",
      "Contingency Table (Observed):\n",
      " TOTEXP16_Categorical    0    1\n",
      "ASPRIN53                      \n",
      "1                      83  289\n",
      "2                     493  624\n",
      "Contingency Table (Expected):\n",
      " [[143.9032908 228.0967092]\n",
      " [432.0967092 684.9032908]]\n"
     ]
    }
   ],
   "source": [
    "# Calculate the Chi-square correlation coefficient\n",
    "contingency_table = pd.crosstab(aspirin_data['ASPRIN53'], aspirin_data['TOTEXP16_Categorical'])\n",
    "chi2, p_value, dof, expected = chi2_contingency(contingency_table)\n",
    "\n",
    "# Display results\n",
    "print(\"Chi-square correlation coefficient between 'ASPRIN53' and 'TOTEXP16_Categorical':\", chi2)\n",
    "print(\"p-value:\", p_value)\n",
    "print(\"Degrees of Freedom:\", dof)\n",
    "print(\"Contingency Table (Observed):\\n\", contingency_table)\n",
    "print(\"Contingency Table (Expected):\\n\", expected)\n"
   ]
  },
  {
   "cell_type": "markdown",
   "metadata": {},
   "source": [
    "# Section 11: Can you apply the Chi-square test based on the number of null transactions?"
   ]
  },
  {
   "cell_type": "code",
   "execution_count": 67,
   "metadata": {},
   "outputs": [
    {
     "name": "stdout",
     "output_type": "stream",
     "text": [
      "Chi-square correlation coefficient based on null transactions (TOTEXP16 == 0): 7.047596292645479\n",
      "p-value: 0.007937169190417688\n",
      "Degrees of Freedom: 1\n",
      "Contingency Table (Observed):\n",
      " TOTEXP16  False  True\n",
      "ASPRIN53             \n",
      "1           370     2\n",
      "2          1081    36\n",
      "Contingency Table (Expected):\n",
      " [[ 362.50638012    9.49361988]\n",
      " [1088.49361988   28.50638012]]\n"
     ]
    }
   ],
   "source": [
    "# Assuming \"null transactions\" refer to zero values in TOTEXP16\n",
    "# Perform a Chi-square test based on the number of zero transactions\n",
    "contingency_table_null_transactions = pd.crosstab(aspirin_data['ASPRIN53'], aspirin_data['TOTEXP16'] == 0)\n",
    "chi2_null_transactions, p_value_null_transactions, dof_null_transactions, expected_null_transactions = chi2_contingency(contingency_table_null_transactions)\n",
    "\n",
    "# Display results\n",
    "print(\"Chi-square correlation coefficient based on null transactions (TOTEXP16 == 0):\", chi2_null_transactions)\n",
    "print(\"p-value:\", p_value_null_transactions)\n",
    "print(\"Degrees of Freedom:\", dof_null_transactions)\n",
    "print(\"Contingency Table (Observed):\\n\", contingency_table_null_transactions)\n",
    "print(\"Contingency Table (Expected):\\n\", expected_null_transactions)\n"
   ]
  },
  {
   "cell_type": "markdown",
   "metadata": {},
   "source": [
    "# Section 12: Independent Samples t-test using the random samples obtained in Question 2."
   ]
  },
  {
   "cell_type": "code",
   "execution_count": 83,
   "metadata": {},
   "outputs": [
    {
     "name": "stdout",
     "output_type": "stream",
     "text": [
      "Independent Samples t-test:\n",
      "T-statistic: 5.3799736606648025\n",
      "P-value: 1.1726695085136701e-07\n"
     ]
    }
   ],
   "source": [
    "# Separate the two groups\n",
    "aspirin_group = asthma_data[asthma_data['ASPRIN53'] == 1]['TOTEXP16']\n",
    "no_aspirin_group = asthma_data[asthma_data['ASPRIN53'] == 2]['TOTEXP16']\n",
    "\n",
    "# Perform Independent Samples t-test\n",
    "from scipy.stats import ttest_ind\n",
    "\n",
    "t_statistic, p_value = ttest_ind(aspirin_group, no_aspirin_group, equal_var=False)\n",
    "\n",
    "# Display the test statistics and p-value\n",
    "print(f\"Independent Samples t-test:\")\n",
    "print(f\"T-statistic: {t_statistic}\")\n",
    "print(f\"P-value: {p_value}\")\n"
   ]
  },
  {
   "cell_type": "markdown",
   "metadata": {},
   "source": [
    "# THE END**"
   ]
  }
 ],
 "metadata": {
  "colab": {
   "authorship_tag": "ABX9TyPD8D95S+Au02SXQMHKTE6n",
   "provenance": []
  },
  "kernelspec": {
   "display_name": "Python 3 (ipykernel)",
   "language": "python",
   "name": "python3"
  },
  "language_info": {
   "codemirror_mode": {
    "name": "ipython",
    "version": 3
   },
   "file_extension": ".py",
   "mimetype": "text/x-python",
   "name": "python",
   "nbconvert_exporter": "python",
   "pygments_lexer": "ipython3",
   "version": "3.9.12"
  }
 },
 "nbformat": 4,
 "nbformat_minor": 1
}
